{
 "cells": [
  {
   "cell_type": "code",
   "execution_count": null,
   "metadata": {},
   "outputs": [
    {
     "ename": "",
     "evalue": "",
     "output_type": "error",
     "traceback": [
      "\u001b[1;31mFailed to start the Kernel. \n",
      "Traceback (most recent call last):\n",
      "  File \"/Users/emil/.vscode/extensions/ms-toolsai.jupyter-2022.4.1021342353/pythonFiles/vscode_datascience_helpers/jupyter_daemon.py\", line 158, in _start_notebook\n",
      "    from notebook import notebookapp as app\n",
      "  File \"/opt/homebrew/Caskroom/miniforge/base/lib/python3.9/site-packages/notebook/notebookapp.py\", line 44, in <module>\n",
      "    from jinja2 import Environment, FileSystemLoader\n",
      "  File \"/opt/homebrew/Caskroom/miniforge/base/lib/python3.9/site-packages/jinja2/__init__.py\", line 12, in <module>\n",
      "    from .environment import Environment\n",
      "  File \"/opt/homebrew/Caskroom/miniforge/base/lib/python3.9/site-packages/jinja2/environment.py\", line 25, in <module>\n",
      "    from .defaults import BLOCK_END_STRING\n",
      "  File \"/opt/homebrew/Caskroom/miniforge/base/lib/python3.9/site-packages/jinja2/defaults.py\", line 3, in <module>\n",
      "    from .filters import FILTERS as DEFAULT_FILTERS  # noqa: F401\n",
      "  File \"/opt/homebrew/Caskroom/miniforge/base/lib/python3.9/site-packages/jinja2/filters.py\", line 13, in <module>\n",
      "    from markupsafe import soft_unicode\n",
      "ImportError: cannot import name 'soft_unicode' from 'markupsafe' (/opt/homebrew/Caskroom/miniforge/base/lib/python3.9/site-packages/markupsafe/__init__.py)\n",
      "\n",
      "During handling of the above exception, another exception occurred:\n",
      "\n",
      "Traceback (most recent call last):\n",
      "  File \"/Users/emil/.vscode/extensions/ms-toolsai.jupyter-2022.4.1021342353/pythonFiles/vscode_datascience_helpers/daemon/daemon_python.py\", line 54, in _decorator\n",
      "    return func(self, *args, **kwargs)\n",
      "  File \"/Users/emil/.vscode/extensions/ms-toolsai.jupyter-2022.4.1021342353/pythonFiles/vscode_datascience_helpers/jupyter_daemon.py\", line 111, in m_exec_module_observable\n",
      "    self._start_notebook(args, cwd, env)\n",
      "  File \"/Users/emil/.vscode/extensions/ms-toolsai.jupyter-2022.4.1021342353/pythonFiles/vscode_datascience_helpers/jupyter_daemon.py\", line 160, in _start_notebook\n",
      "    from notebook import app as app\n",
      "ImportError: cannot import name 'app' from 'notebook' (/opt/homebrew/Caskroom/miniforge/base/lib/python3.9/site-packages/notebook/__init__.py)\n",
      "\n",
      "Failed to run jupyter as observable with args notebook --no-browser --notebook-dir=\"/Users/emil/repos/turkunlp/finsquad\" --config=/var/folders/bx/264jjq_x4vs2_n1j7yvp3l340000gn/T/c91c6cf1-49ed-4a9e-a75f-2cd37e9dfc27/jupyter_notebook_config.py --NotebookApp.iopub_data_rate_limit=10000000000.0. \n",
      "View Jupyter <a href='command:jupyter.viewOutput'>log</a> for further details."
     ]
    }
   ],
   "source": [
    "from datasets import load_dataset\n",
    "\n",
    "squad = load_dataset(\"squad\")"
   ]
  },
  {
   "cell_type": "code",
   "execution_count": null,
   "metadata": {},
   "outputs": [
    {
     "ename": "",
     "evalue": "",
     "output_type": "error",
     "traceback": [
      "\u001b[1;31mFailed to start the Kernel. \n",
      "Traceback (most recent call last):\n",
      "  File \"/Users/emil/.vscode/extensions/ms-toolsai.jupyter-2022.4.1021342353/pythonFiles/vscode_datascience_helpers/jupyter_daemon.py\", line 158, in _start_notebook\n",
      "    from notebook import notebookapp as app\n",
      "  File \"/opt/homebrew/Caskroom/miniforge/base/lib/python3.9/site-packages/notebook/notebookapp.py\", line 44, in <module>\n",
      "    from jinja2 import Environment, FileSystemLoader\n",
      "  File \"/opt/homebrew/Caskroom/miniforge/base/lib/python3.9/site-packages/jinja2/__init__.py\", line 12, in <module>\n",
      "    from .environment import Environment\n",
      "  File \"/opt/homebrew/Caskroom/miniforge/base/lib/python3.9/site-packages/jinja2/environment.py\", line 25, in <module>\n",
      "    from .defaults import BLOCK_END_STRING\n",
      "  File \"/opt/homebrew/Caskroom/miniforge/base/lib/python3.9/site-packages/jinja2/defaults.py\", line 3, in <module>\n",
      "    from .filters import FILTERS as DEFAULT_FILTERS  # noqa: F401\n",
      "  File \"/opt/homebrew/Caskroom/miniforge/base/lib/python3.9/site-packages/jinja2/filters.py\", line 13, in <module>\n",
      "    from markupsafe import soft_unicode\n",
      "ImportError: cannot import name 'soft_unicode' from 'markupsafe' (/opt/homebrew/Caskroom/miniforge/base/lib/python3.9/site-packages/markupsafe/__init__.py)\n",
      "\n",
      "During handling of the above exception, another exception occurred:\n",
      "\n",
      "Traceback (most recent call last):\n",
      "  File \"/Users/emil/.vscode/extensions/ms-toolsai.jupyter-2022.4.1021342353/pythonFiles/vscode_datascience_helpers/daemon/daemon_python.py\", line 54, in _decorator\n",
      "    return func(self, *args, **kwargs)\n",
      "  File \"/Users/emil/.vscode/extensions/ms-toolsai.jupyter-2022.4.1021342353/pythonFiles/vscode_datascience_helpers/jupyter_daemon.py\", line 111, in m_exec_module_observable\n",
      "    self._start_notebook(args, cwd, env)\n",
      "  File \"/Users/emil/.vscode/extensions/ms-toolsai.jupyter-2022.4.1021342353/pythonFiles/vscode_datascience_helpers/jupyter_daemon.py\", line 160, in _start_notebook\n",
      "    from notebook import app as app\n",
      "ImportError: cannot import name 'app' from 'notebook' (/opt/homebrew/Caskroom/miniforge/base/lib/python3.9/site-packages/notebook/__init__.py)\n",
      "\n",
      "Failed to run jupyter as observable with args notebook --no-browser --notebook-dir=\"/Users/emil/repos/turkunlp/finsquad\" --config=/var/folders/bx/264jjq_x4vs2_n1j7yvp3l340000gn/T/c91c6cf1-49ed-4a9e-a75f-2cd37e9dfc27/jupyter_notebook_config.py --NotebookApp.iopub_data_rate_limit=10000000000.0. \n",
      "View Jupyter <a href='command:jupyter.viewOutput'>log</a> for further details."
     ]
    }
   ],
   "source": []
  }
 ],
 "metadata": {
  "interpreter": {
   "hash": "c6e4e9f98eb68ad3b7c296f83d20e6de614cb42e90992a65aa266555a3137d0d"
  },
  "kernelspec": {
   "display_name": "Python 3.9.10 ('base')",
   "language": "python",
   "name": "python3"
  },
  "language_info": {
   "name": "python",
   "version": "3.9.10"
  },
  "orig_nbformat": 4
 },
 "nbformat": 4,
 "nbformat_minor": 2
}
