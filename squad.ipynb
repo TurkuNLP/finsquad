{
  "cells": [
    {
      "cell_type": "markdown",
      "metadata": {
        "id": "X4cRE8IbIrIV"
      },
      "source": [
        "If you're opening this Notebook on colab, you will probably need to install 🤗 Transformers and 🤗 Datasets. Uncomment the following cell and run it."
      ]
    },
    {
      "cell_type": "code",
      "execution_count": null,
      "metadata": {
        "id": "MOsHUjgdIrIW"
      },
      "outputs": [],
      "source": [
        "! pip install datasets transformers"
      ]
    },
    {
      "cell_type": "markdown",
      "metadata": {
        "id": "jFXuZ5KUiikj"
      },
      "source": [
        "Make sure your version of Transformers is at least 4.11.0 since the functionality was introduced in that version:"
      ]
    },
    {
      "cell_type": "code",
      "execution_count": 3,
      "metadata": {
        "id": "ESclAX_tiikj"
      },
      "outputs": [
        {
          "name": "stdout",
          "output_type": "stream",
          "text": [
            "4.19.2\n"
          ]
        }
      ],
      "source": [
        "import transformers\n",
        "\n",
        "print(transformers.__version__)"
      ]
    },
    {
      "cell_type": "markdown",
      "metadata": {
        "id": "HFASsisvIrIb"
      },
      "source": [
        "You can find a script version of this notebook to fine-tune your model in a distributed fashion using multiple GPUs or TPUs [here](https://github.com/huggingface/transformers/tree/master/examples/question-answering)."
      ]
    },
    {
      "cell_type": "markdown",
      "metadata": {
        "id": "rEJBSTyZIrIb"
      },
      "source": [
        "# Fine-tuning a model on a question-answering task"
      ]
    },
    {
      "cell_type": "markdown",
      "metadata": {
        "id": "4RRkXuteIrIh"
      },
      "source": [
        "This notebook is built to run on any question answering task with the same format as SQUAD (version 1 or 2), with any model checkpoint from the [Model Hub](https://huggingface.co/models) as long as that model has a version with a token classification head and a fast tokenizer (check on [this table](https://huggingface.co/transformers/index.html#bigtable) if this is the case). It might just need some small adjustments if you decide to use a different dataset than the one used here. Depending on you model and the GPU you are using, you might need to adjust the batch size to avoid out-of-memory errors. Set those three parameters, then the rest of the notebook should run smoothly:"
      ]
    },
    {
      "cell_type": "code",
      "execution_count": 4,
      "metadata": {
        "id": "zVvslsfMIrIh"
      },
      "outputs": [],
      "source": [
        "# This flag is the difference between SQUAD v1 or 2 (if you're using another dataset, it indicates if impossible\n",
        "# answers are allowed or not).\n",
        "squad_v2 = True\n",
        "model_checkpoint = \"TurkuNLP/bert-base-finnish-cased-v1\"\n",
        "batch_size = 16"
      ]
    },
    {
      "cell_type": "markdown",
      "metadata": {
        "id": "whPRbBNbIrIl"
      },
      "source": [
        "## Loading the dataset"
      ]
    },
    {
      "cell_type": "markdown",
      "metadata": {
        "id": "W7QYTpxXIrIl"
      },
      "source": [
        "We will use the [🤗 Datasets](https://github.com/huggingface/datasets) library to download the data and get the metric we need to use for evaluation (to compare our model to the benchmark). This can be easily done with the functions `load_dataset` and `load_metric`.  "
      ]
    },
    {
      "cell_type": "code",
      "execution_count": 5,
      "metadata": {
        "id": "IreSlFmlIrIm"
      },
      "outputs": [],
      "source": [
        "from datasets import load_dataset, load_metric"
      ]
    },
    {
      "cell_type": "markdown",
      "metadata": {
        "id": "CKx2zKs5IrIq"
      },
      "source": [
        "For our example here, we'll use the [SQUAD dataset](https://rajpurkar.github.io/SQuAD-explorer/). The notebook should work with any question answering dataset provided by the 🤗 Datasets library. If you're using your own dataset defined from a JSON or csv file (see the [Datasets documentation](https://huggingface.co/docs/datasets/loading_datasets.html#from-local-files) on how to load them), it might need some adjustments in the names of the columns used."
      ]
    },
    {
      "cell_type": "code",
      "execution_count": 6,
      "metadata": {
        "colab": {
          "base_uri": "https://localhost:8080/",
          "height": 270,
          "referenced_widgets": [
            "69caab03d6264fef9fc5649bffff5e20",
            "3f74532faa86412293d90d3952f38c4a",
            "50615aa59c7247c4804ca5cbc7945bd7",
            "fe962391292a413ca55dc932c4279fa7",
            "299f4b4c07654e53a25f8192bd1d7bbd",
            "ad04ed1038154081bbb0c1444784dcc2",
            "7c667ad22b5740d5a6319f1b1e3a8097",
            "46c2b043c0f84806978784a45a4e203b",
            "80e2943be35f46eeb24c8ab13faa6578",
            "de5956b5008d4fdba807bae57509c393",
            "931db1f7a42f4b46b7ff8c2e1262b994",
            "6c1db72efff5476e842c1386fadbbdba",
            "ccd2f37647c547abb4c719b75a26f2de",
            "d30a66df5c0145e79693e09789d96b81",
            "5fa26fc336274073abbd1d550542ee33",
            "2b34de08115d49d285def9269a53f484",
            "d426be871b424affb455aeb7db5e822e",
            "160bf88485f44f5cb6eaeecba5e0901f",
            "745c0d47d672477b9bb0dae77b926364",
            "d22ab78269cd4ccfbcf70c707057c31b",
            "d298eb19eeff453cba51c2804629d3f4",
            "a7204ade36314c86907c562e0a2158b8",
            "e35d42b2d352498ca3fc8530393786b2",
            "75103f83538d44abada79b51a1cec09e",
            "f6253931d90543e9b5fd0bb2d615f73a",
            "051aa783ff9e47e28d1f9584043815f5",
            "0984b2a14115454bbb009df71c1cf36f",
            "8ab9dfce29854049912178941ef1b289",
            "c9de740e007141958545e269372780a4",
            "cbea68b25d6d4ba09b2ce0f27b1726d5",
            "5781fc45cf8d486cb06ed68853b2c644",
            "d2a92143a08a4951b55bab9bc0a6d0d3",
            "a14c3e40e5254d61ba146f6ec88eae25",
            "c4ffe6f624ce4e978a0d9b864544941a",
            "1aca01c1d8c940dfadd3e7144bb35718",
            "9fbbaae50e6743f2aa19342152398186",
            "fea27ca6c9504fc896181bc1ff5730e5",
            "940d00556cb849b3a689d56e274041c2",
            "5cdf9ed939fb42d4bf77301c80b8afca",
            "94b39ccfef0b4b08bf2fb61bb0a657c1",
            "9a55087c85b74ea08b3e952ac1d73cbe",
            "2361ab124daf47cc885ff61f2899b2af",
            "1a65887eb37747ddb75dc4a40f7285f2",
            "3c946e2260704e6c98593136bd32d921",
            "50d325cdb9844f62a9ecc98e768cb5af",
            "aa781f0cfe454e9da5b53b93e9baabd8",
            "6bb68d3887ef43809eb23feb467f9723",
            "7e29a8b952cf4f4ea42833c8bf55342f",
            "dd5997d01d8947e4b1c211433969b89b",
            "2ace4dc78e2f4f1492a181bcd63304e7",
            "bbee008c2791443d8610371d1f16b62b",
            "31b1c8a2e3334b72b45b083688c1a20c",
            "7fb7c36adc624f7dbbcb4a831c1e4f63",
            "0b7c8f1939074794b3d9221244b1344d",
            "a71908883b064e1fbdddb547a8c41743",
            "2f5223f26c8541fc87e91d2205c39995"
          ]
        },
        "id": "s_AY1ATSIrIq",
        "outputId": "fd0578d1-8895-443d-b56f-5908de9f1b6b"
      },
      "outputs": [
        {
          "name": "stdout",
          "output_type": "stream",
          "text": [
            "Downloading and preparing dataset squad_v2/squad_fi to /Users/emil/.cache/huggingface/datasets/squad_v2/squad_fi/2.0.0/8329771bba48568871bbfde658c4878518a3e0047998b8b708b11abd8007cd67...\n"
          ]
        },
        {
          "name": "stderr",
          "output_type": "stream",
          "text": [
            "                                                                        \r"
          ]
        },
        {
          "name": "stdout",
          "output_type": "stream",
          "text": [
            "Dataset squad_v2 downloaded and prepared to /Users/emil/.cache/huggingface/datasets/squad_v2/squad_fi/2.0.0/8329771bba48568871bbfde658c4878518a3e0047998b8b708b11abd8007cd67. Subsequent calls will reuse this data.\n"
          ]
        },
        {
          "name": "stderr",
          "output_type": "stream",
          "text": [
            "100%|██████████| 2/2 [00:00<00:00, 261.24it/s]\n"
          ]
        }
      ],
      "source": [
        "datasets = load_dataset('squad_fi.py')"
      ]
    },
    {
      "cell_type": "markdown",
      "metadata": {
        "id": "RzfPtOMoIrIu"
      },
      "source": [
        "The `datasets` object itself is [`DatasetDict`](https://huggingface.co/docs/datasets/package_reference/main_classes.html#datasetdict), which contains one key for the training, validation and test set."
      ]
    },
    {
      "cell_type": "code",
      "execution_count": 7,
      "metadata": {
        "id": "GWiVUF0jIrIv",
        "outputId": "35e3ea43-f397-4a54-c90c-f2cf8d36873e"
      },
      "outputs": [
        {
          "data": {
            "text/plain": [
              "DatasetDict({\n",
              "    train: Dataset({\n",
              "        features: ['id', 'title', 'context', 'question', 'answers'],\n",
              "        num_rows: 130319\n",
              "    })\n",
              "    validation: Dataset({\n",
              "        features: ['id', 'title', 'context', 'question', 'answers'],\n",
              "        num_rows: 11873\n",
              "    })\n",
              "})"
            ]
          },
          "execution_count": 7,
          "metadata": {},
          "output_type": "execute_result"
        }
      ],
      "source": [
        "datasets"
      ]
    },
    {
      "cell_type": "markdown",
      "metadata": {
        "id": "jhpbMk4riikp"
      },
      "source": [
        "We can see the training, validation and test sets all have a column for the context, the question and the answers to those questions."
      ]
    },
    {
      "cell_type": "markdown",
      "metadata": {
        "id": "u3EtYfeHIrIz"
      },
      "source": [
        "To access an actual element, you need to select a split first, then give an index:"
      ]
    },
    {
      "cell_type": "code",
      "execution_count": 8,
      "metadata": {
        "id": "X6HrpprwIrIz",
        "outputId": "d7670bc0-42e4-4c09-8a6a-5c018ded7d95"
      },
      "outputs": [
        {
          "data": {
            "text/plain": [
              "{'id': '56be85543aeaaa14008c9063',\n",
              " 'title': 'Beyoncé',\n",
              " 'context': 'Beyoncé Giselle Knowles-Carter (/biːˈjɒnseɪ/ bee-YON-say) (s. 4. syyskuuta 1981) on yhdysvaltalainen laulaja, lauluntekijä, tuottaja ja näyttelijä. Hän syntyi ja kasvoi Houstonissa, Texasissa, esiintyi lapsena erilaisissa laulu- ja tanssikilpailuissa ja nousi kuuluisuuteen 1990-luvun lopulla R&B-tyttöyhtye Destiny\\'s Childin laulajana. Hänen isänsä Mathew Knowlesin manageroimasta ryhmästä tuli yksi maailman kaikkien aikojen myydyimmistä tyttöryhmistä. Heidän tauollaan julkaistiin Beyoncén debyyttialbumi Dangerously in Love (2003), joka vakiinnutti Beyoncén aseman sooloartistina maailmanlaajuisesti, toi viisi Grammy-palkintoa ja sisälsi Billboard Hot 100 -listan ykkössinglet \"Crazy in Love\" ja \"Baby Boy\".',\n",
              " 'question': 'Milloin Beyoncesta alkoi tulla suosittu?',\n",
              " 'answers': {'text': ['1990-luvun lopulla'], 'answer_start': [274]}}"
            ]
          },
          "execution_count": 8,
          "metadata": {},
          "output_type": "execute_result"
        }
      ],
      "source": [
        "datasets[\"train\"][0]"
      ]
    },
    {
      "cell_type": "markdown",
      "metadata": {
        "id": "vtymfbH_iikq"
      },
      "source": [
        "We can see the answers are indicated by their start position in the text (here at character 515) and their full text, which is a substring of the context as we mentioned above."
      ]
    },
    {
      "cell_type": "markdown",
      "metadata": {
        "id": "WHUmphG3IrI3"
      },
      "source": [
        "To get a sense of what the data looks like, the following function will show some examples picked randomly in the dataset (automatically decoding the labels in passing)."
      ]
    },
    {
      "cell_type": "code",
      "execution_count": 9,
      "metadata": {
        "id": "i3j8APAoIrI3"
      },
      "outputs": [],
      "source": [
        "from datasets import ClassLabel, Sequence\n",
        "import random\n",
        "import pandas as pd\n",
        "from IPython.display import display, HTML\n",
        "\n",
        "def show_random_elements(dataset, num_examples=10):\n",
        "    assert num_examples <= len(dataset), \"Can't pick more elements than there are in the dataset.\"\n",
        "    picks = []\n",
        "    for _ in range(num_examples):\n",
        "        pick = random.randint(0, len(dataset)-1)\n",
        "        while pick in picks:\n",
        "            pick = random.randint(0, len(dataset)-1)\n",
        "        picks.append(pick)\n",
        "    \n",
        "    df = pd.DataFrame(dataset[picks])\n",
        "    for column, typ in dataset.features.items():\n",
        "        if isinstance(typ, ClassLabel):\n",
        "            df[column] = df[column].transform(lambda i: typ.names[i])\n",
        "        elif isinstance(typ, Sequence) and isinstance(typ.feature, ClassLabel):\n",
        "            df[column] = df[column].transform(lambda x: [typ.feature.names[i] for i in x])\n",
        "    display(HTML(df.to_html()))"
      ]
    },
    {
      "cell_type": "code",
      "execution_count": 10,
      "metadata": {
        "id": "SZy5tRB_IrI7",
        "outputId": "ba8f2124-e485-488f-8c0c-254f34f24f13",
        "scrolled": true
      },
      "outputs": [
        {
          "data": {
            "text/html": [
              "<table border=\"1\" class=\"dataframe\">\n",
              "  <thead>\n",
              "    <tr style=\"text-align: right;\">\n",
              "      <th></th>\n",
              "      <th>id</th>\n",
              "      <th>title</th>\n",
              "      <th>context</th>\n",
              "      <th>question</th>\n",
              "      <th>answers</th>\n",
              "    </tr>\n",
              "  </thead>\n",
              "  <tbody>\n",
              "    <tr>\n",
              "      <th>0</th>\n",
              "      <td>56cca27d6d243a140015f04d</td>\n",
              "      <td>IPod</td>\n",
              "      <td>Kolmannet osapuolet, kuten Namco, Square Enix, Electronic Arts, Sega ja Hudson Soft, valmistavat pelejä iPodille, joten Applen MP3-soitin on ottanut askeleita kohti videopelien käsikonsolimarkkinoita. Jopa videopelilehdet, kuten GamePro ja EGM, ovat arvostelleet ja arvioineet useimmat iPodin pelit viime aikoina.</td>\n",
              "      <td>Mille markkinoille Apple voi osallistua nyt, kun sillä on tarjolla erilaisia pelejä iPodille?</td>\n",
              "      <td>{'text': ['videopelien käsikonsolimarkkinoita'], 'answer_start': [165]}</td>\n",
              "    </tr>\n",
              "    <tr>\n",
              "      <th>1</th>\n",
              "      <td>572fee8db2c2fd1400568602</td>\n",
              "      <td>Iran</td>\n",
              "      <td>Iranissa on yksi maailman vanhimmista sivilisaatioista, joka alkoi protoelamiittisten ja elamiittisten valtakuntien muodostumisesta vuosina 3200-2800 eaa. Iranin meedit yhdistivät alueen ensimmäiseksi monista valtakunnista vuonna 625 eaa., minkä jälkeen siitä tuli alueen hallitseva kulttuurinen ja poliittinen valta. Iran saavutti valtansa huipun Kyrus Suuren vuonna 550 eaa. perustaman Akhamenidien valtakunnan aikana, joka laajimmillaan käsitti suuren osan muinaisesta maailmasta ja ulottui lännessä Balkanin osista (Traakia-Makedonia, Bulgaria-Paeonia) ja varsinaisesta Itä-Euroopasta idässä sijaitsevaan Induksen laaksoon, tehden siitä suurimman valtakunnan, jonka maailma oli koskaan nähnyt. Valtakunta romahti vuonna 330 eaa. Aleksanteri Suuren valloitusten seurauksena. Parthian valtakunta nousi tuhkasta, ja sitä seurasi vuonna 224 jKr. Sassanidien dynastia, jonka aikana Iranista tuli jälleen yksi maailman johtavista suurvalloista Rooman ja Bysantin valtakunnan ohella yli neljän vuosisadan ajan.</td>\n",
              "      <td>Milloin Arkajeenidien valtakunta romahti?</td>\n",
              "      <td>{'text': ['330 eaa.'], 'answer_start': [724]}</td>\n",
              "    </tr>\n",
              "    <tr>\n",
              "      <th>2</th>\n",
              "      <td>5a7b83a521c2de001afea0e5</td>\n",
              "      <td>Transistor</td>\n",
              "      <td>JEDEC EIA370 -transistorien laitenumerot alkavat yleensä sanalla \"2N\", mikä tarkoittaa kolmen terminaalin laitetta (dual-gate-kenttäefektitransistorit ovat neljän terminaalin laitteita, joten ne alkavat sanalla 3N), ja sen jälkeen seuraa kaksi-, kolmi- tai nelinumeroinen juokseva numero, jolla ei ole mitään merkitystä laitteen ominaisuuksien kannalta (joskin varhaiset laitteet, joissa on matalat numerot, ovat yleensä germaniumia). Esimerkiksi 2N3055 on piistä valmistettu n-p-n-tehotransistori, 2N1301 on p-n-p-germanium-kytkentätransistori. Joskus käytetään kirjainliitettä (kuten \"A\") osoittamaan uudempaa muunnosta, mutta harvoin ryhmityksiä.</td>\n",
              "      <td>Mikä on tavallisin ylimääräisten numeroiden määrä laitteen numerossa?</td>\n",
              "      <td>{'text': [], 'answer_start': []}</td>\n",
              "    </tr>\n",
              "    <tr>\n",
              "      <th>3</th>\n",
              "      <td>572efe86cb0c0d14000f16e1</td>\n",
              "      <td>51st_state</td>\n",
              "      <td>Puerto Ricosta on keskusteltu mahdollisena Yhdysvaltojen 51. osavaltiona. Vuonna 2012 järjestetyssä kansanäänestyksessä enemmistö äänestäjistä, 54 prosenttia, ilmaisi tyytymättömyytensä nykyisiin poliittisiin suhteisiin. Erillisessä kysymyksessä 61 prosenttia äänestäjistä kannatti oman valtion perustamista (pois lukien 26 prosenttia äänestäjistä, jotka jättivät kysymyksen tyhjäksi). Joulukuun 11. päivänä 2012 Puerto Ricon lainsäätäjä päätti pyytää, että presidentti ja Yhdysvaltain kongressi toimisivat tulosten perusteella, lopettaisivat alueellisen aseman nykyisen muodon ja aloittaisivat prosessin Puerto Ricon ottamiseksi unioniin osavaltioksi.</td>\n",
              "      <td>Milloin Puerto Ricon lainsäätäjä pyysi, että sille myönnettäisiin itsenäisyys?</td>\n",
              "      <td>{'text': ['Joulukuun 11. päivänä'], 'answer_start': [386]}</td>\n",
              "    </tr>\n",
              "    <tr>\n",
              "      <th>4</th>\n",
              "      <td>56f93cda9e9bad19000a0818</td>\n",
              "      <td>List_of_numbered_streets_in_Manhattan</td>\n",
              "      <td>24th Street on kaksiosainen. 24th Street alkaa First Avenuelta ja päättyy Madison Avenuelle Madison Square Parkin takia. 25th Street, joka on kolmiosainen, alkaa FDR Drivelta, on kävelykatu Third Avenuen ja Lexington Avenuen välissä ja päättyy Madisoniin. Sitten West 24th ja 25th Street jatkuvat Fifth Avenuelta Eleventh Avenuelle (25th) tai Twelfth Avenuelle (24th).</td>\n",
              "      <td>Mihin 25th Street päättyy?</td>\n",
              "      <td>{'text': ['Madisoniin'], 'answer_start': [244]}</td>\n",
              "    </tr>\n",
              "    <tr>\n",
              "      <th>5</th>\n",
              "      <td>56f7f5fca6d7ea1400e17327</td>\n",
              "      <td>Szlachta</td>\n",
              "      <td>Horodłon liiton jälkeen liettualainen aatelisto sai tasavertaisen aseman puolalaisen szlachtan kanssa, ja ajan mittaan se alkoi yhä enemmän polonisoitua, vaikka se säilyttikin kansallisen tietoisuutensa ja useimmissa tapauksissa liettualaisen sukujuurensa tunnustamisen. Jotkut liettualaiset aateliset väittivät 1500-luvulla, että he olivat roomalaista alkuperää ja että liettuan kieli oli vain muunnettu latinan kieli. Tämä johti paradoksiin: puolalainen aatelisto väitti olevansa peräisin sarmatialaisten heimoista, mutta sarmatialaisia pidettiin roomalaisten vihollisina. Näin syntyi uusi roomalais-sarmatialainen teoria. Vahvat kulttuuriset siteet puolalaiseen aatelistoon johtivat siihen, että 1500-luvulla syntyi uusi termi liettualaisen aateliston nimeksi šlėkta, joka oli suora lainasana puolan szlachta-sanasta. Historiallisen totuuden näkökulmasta liettualaisten olisi myös käytettävä tätä termiä šlėkta (szlachta) oman aatelistonsa nimeämiseen, mutta liettualaiset kielitieteilijät kielsivät tämän puolalaisen lainasanan käytön. Tämä kieltäytyminen käyttämästä sanaa szlachta (liettuankielisessä tekstissä šlėkta) vaikeuttaa kaikkia nimityksiä.</td>\n",
              "      <td>Mitä eräs liettualainen aatelinen väitti, joka aiheutti paradoksin?</td>\n",
              "      <td>{'text': ['he olivat roomalaista alkuperää ja että'], 'answer_start': [331]}</td>\n",
              "    </tr>\n",
              "    <tr>\n",
              "      <th>6</th>\n",
              "      <td>5a362701788daf001a5f8767</td>\n",
              "      <td>Himachal_Pradesh</td>\n",
              "      <td>Muita uskontoja, jotka muodostavat pienen prosenttiosuuden, ovat buddhalaisuus ja sikhismi. Lahaulin ja Spitin alueen lahaulit ovat pääasiassa buddhalaisia. Sikhit asuvat enimmäkseen kaupungeissa ja muodostavat 1,16 prosenttia osavaltion väestöstä. Esimerkiksi Punjabin osavaltioon rajoittuvassa Unan piirikunnassa heitä on 10 prosenttia väestöstä ja osavaltion pääkaupungissa Shimlassa 17 prosenttia. Buddhalaisia on 1,15 prosenttia, ja he ovat pääasiassa Lahaulin ja Spitin alkuperäis- ja heimoväestöä, jossa heidän enemmistönsä on 60 prosenttia, ja Kinnaurin osavaltiossa, jossa heidän osuutensa on 40 prosenttia, mutta suurin osa heistä on pakolaisia Tiibetistä. Muslimien osuus Himachal Pradeshin väestöstä on 2,18 prosenttia.</td>\n",
              "      <td>Missä muslimit pääasiassa asuvat?</td>\n",
              "      <td>{'text': [], 'answer_start': []}</td>\n",
              "    </tr>\n",
              "    <tr>\n",
              "      <th>7</th>\n",
              "      <td>56daedd8e7c41114004b4b34</td>\n",
              "      <td>American_Idol</td>\n",
              "      <td>American Idol perustui Simon Fullerin luomaan brittiläiseen Pop Idol -ohjelmaan, joka puolestaan sai vaikutteita uusiseelantilaisesta televisiolaulukilpailusta Popstars. Televisiotuottaja Nigel Lythgoe näki sen Australiassa ja auttoi tuomaan sen Britanniaan. Fuller innostui Popstarsin ideasta, jonka mukaan tuomaristo valitsee laulajat koelaulujen perusteella. Fuller lisäsi siihen muita elementtejä, kuten yleisön puhelinäänestyksen (jota tuolloin käytettiin jo Eurovision laulukilpailun kaltaisissa ohjelmissa), taustatarinat ja reaaliajassa tapahtuvan saippuaoopperan. Show debytoi 2001Isossa-Britanniassa vuonna Lythgoe toimi showrunnerina, joka on vastaava tuottaja ja tuotannon johtaja, ja Simon Cowell yhtenä tuomareista, ja se oli suuri menestys yleisön keskuudessa.</td>\n",
              "      <td>Kuka näki Popstarsin Australiassa ollessaan ja halusi, että Britanniassa olisi sama juttu?</td>\n",
              "      <td>{'text': ['Nigel Lythgoe'], 'answer_start': [188]}</td>\n",
              "    </tr>\n",
              "    <tr>\n",
              "      <th>8</th>\n",
              "      <td>56d4c13d2ccc5a1400d831d5</td>\n",
              "      <td>Dog</td>\n",
              "      <td>ICZN päätti vuonna2003 2027 antamassaan lausunnossa, että jos luonnonvaraisia eläimiä ja niiden kotieläiminä pidettyjä johdannaisia pidetään yhtenä lajina, lajin tieteellinen nimi on luonnonvaraisen eläimen tieteellinen nimi. Vuonna 2005 ilmestyneessä Mammal Species of the World -julkaisun kolmannessa painoksessa pidettiin voimassa lausunto 2027, jonka mukaan lajin nimi on Lupus ja siihen on lisätty seuraava huomautus: \"Sisältää kotikoiran alalajina ja dingon väliaikaisesti erillisenä lajina - kotieläinjalostuksen ja valikoivan jalostuksen tuloksena syntyneet keinotekoiset muunnokset\". Canis familiaris -nimitystä käytetään kuitenkin joskus meneillään olevan nimistökeskustelun vuoksi, koska luonnonvaraiset ja kotieläimet ovat erikseen tunnistettavia kokonaisuuksia ja koska ICZN antoi käyttäjille mahdollisuuden valita, mitä nimeä he voivat käyttää, ja monet kansainvälisesti tunnustetut tutkijat käyttävät mieluummin Canis familiaris -nimitystä.</td>\n",
              "      <td>Mikä virallinen elin tunnustaa sekä Canis lupuksen että Canis familiariksen?</td>\n",
              "      <td>{'text': ['ICZN'], 'answer_start': [0]}</td>\n",
              "    </tr>\n",
              "    <tr>\n",
              "      <th>9</th>\n",
              "      <td>571ab39a10f8ca14003052f5</td>\n",
              "      <td>Pharmaceutical_industry</td>\n",
              "      <td>Toisen maailmansodan jälkimainingeissa löydettiin räjähdysmäisesti uusia antibakteeristen lääkkeiden luokkia, kuten kefalosporiinit (Eli Lilly kehitti ne Giuseppe Brotzun ja Edward Abrahamin uraauurtavan työn pohjalta), streptomysiini (löydettiin Merckin rahoittamassa tutkimusohjelmassa Selman Waksmanin laboratoriossa), tetrasykliinit (löydettiin Lederle Laboratoriesissa, joka nykyään kuuluu Pfizeriin), erytromysiini (löydettiin Eli Lilly and Co.) ja niiden laajentaminen yhä useampiin bakteeripatogeeneihin. Streptomysiinistä, joka löydettiin Merckin rahoittamassa tutkimusohjelmassa Selman Waksmanin laboratoriossa Rutgersissa vuonna1943 , tuli ensimmäinen tehokas tuberkuloosin hoito. Tuberkuloosiin sairastuneiden ihmisten eristämiseen tarkoitetut parantolat olivat sen keksimisen aikaan yleinen piirre kehittyneiden maiden kaupungeissa, ja 50 prosenttia niistä kuoli viiden vuoden kuluessa hoitoon pääsystä.</td>\n",
              "      <td>Keneen Eli Lillyn työ perustui?</td>\n",
              "      <td>{'text': ['Giuseppe Brotzun ja Edward Abrahamin'], 'answer_start': [154]}</td>\n",
              "    </tr>\n",
              "  </tbody>\n",
              "</table>"
            ],
            "text/plain": [
              "<IPython.core.display.HTML object>"
            ]
          },
          "metadata": {},
          "output_type": "display_data"
        }
      ],
      "source": [
        "show_random_elements(datasets[\"train\"])"
      ]
    },
    {
      "cell_type": "markdown",
      "metadata": {
        "id": "n9qywopnIrJH"
      },
      "source": [
        "## Preprocessing the training data"
      ]
    },
    {
      "cell_type": "markdown",
      "metadata": {
        "id": "YVx71GdAIrJH"
      },
      "source": [
        "Before we can feed those texts to our model, we need to preprocess them. This is done by a 🤗 Transformers `Tokenizer` which will (as the name indicates) tokenize the inputs (including converting the tokens to their corresponding IDs in the pretrained vocabulary) and put it in a format the model expects, as well as generate the other inputs that model requires.\n",
        "\n",
        "To do all of this, we instantiate our tokenizer with the `AutoTokenizer.from_pretrained` method, which will ensure:\n",
        "\n",
        "- we get a tokenizer that corresponds to the model architecture we want to use,\n",
        "- we download the vocabulary used when pretraining this specific checkpoint.\n",
        "\n",
        "That vocabulary will be cached, so it's not downloaded again the next time we run the cell."
      ]
    },
    {
      "cell_type": "code",
      "execution_count": 11,
      "metadata": {
        "id": "eXNLu_-nIrJI"
      },
      "outputs": [],
      "source": [
        "from transformers import AutoTokenizer\n",
        "    \n",
        "tokenizer = AutoTokenizer.from_pretrained(model_checkpoint)"
      ]
    },
    {
      "cell_type": "markdown",
      "metadata": {
        "id": "Vl6IidfdIrJK"
      },
      "source": [
        "The following assertion ensures that our tokenizer is a fast tokenizers (backed by Rust) from the 🤗 Tokenizers library. Those fast tokenizers are available for almost all models, and we will need some of the special features they have for our preprocessing."
      ]
    },
    {
      "cell_type": "code",
      "execution_count": 12,
      "metadata": {
        "id": "gBAQGVJAiikr"
      },
      "outputs": [],
      "source": [
        "import transformers\n",
        "assert isinstance(tokenizer, transformers.PreTrainedTokenizerFast)"
      ]
    },
    {
      "cell_type": "markdown",
      "metadata": {
        "id": "7-1BBkz3iikr"
      },
      "source": [
        "You can check which type of models have a fast tokenizer available and which don't on the [big table of models](https://huggingface.co/transformers/index.html#bigtable)."
      ]
    },
    {
      "cell_type": "markdown",
      "metadata": {
        "id": "rowT4iCLIrJK"
      },
      "source": [
        "You can directly call this tokenizer on two sentences (one for the answer, one for the context):"
      ]
    },
    {
      "cell_type": "code",
      "execution_count": 13,
      "metadata": {
        "id": "a5hBlsrHIrJL",
        "outputId": "acdaa98a-a8cd-4a20-89b8-cc26437bbe90"
      },
      "outputs": [
        {
          "data": {
            "text/plain": [
              "{'input_ids': [102, 45504, 645, 28329, 50018, 37932, 50010, 305, 103, 9562, 37932, 50010, 645, 28136, 14672, 111, 103], 'token_type_ids': [0, 0, 0, 0, 0, 0, 0, 0, 0, 1, 1, 1, 1, 1, 1, 1, 1], 'attention_mask': [1, 1, 1, 1, 1, 1, 1, 1, 1, 1, 1, 1, 1, 1, 1, 1, 1]}"
            ]
          },
          "execution_count": 13,
          "metadata": {},
          "output_type": "execute_result"
        }
      ],
      "source": [
        "tokenizer(\"What is your name?\", \"My name is Sylvain.\")"
      ]
    },
    {
      "cell_type": "markdown",
      "metadata": {
        "id": "uwt0p_q-iiks"
      },
      "source": [
        "Depending on the model you selected, you will see different keys in the dictionary returned by the cell above. They don't matter much for what we're doing here (just know they are required by the model we will instantiate later), you can learn more about them in [this tutorial](https://huggingface.co/transformers/preprocessing.html) if you're interested.\n",
        "\n",
        "Now one specific thing for the preprocessing in question answering is how to deal with very long documents. We usually truncate them in other tasks, when they are longer than the model maximum sentence length, but here, removing part of the the context might result in losing the answer we are looking for. To deal with this, we will allow one (long) example in our dataset to give several input features, each of length shorter than the maximum length of the model (or the one we set as a hyper-parameter). Also, just in case the answer lies at the point we split a long context, we allow some overlap between the features we generate controlled by the hyper-parameter `doc_stride`:"
      ]
    },
    {
      "cell_type": "code",
      "execution_count": 14,
      "metadata": {
        "id": "DydYu-XHiiks"
      },
      "outputs": [],
      "source": [
        "max_length = 384 # The maximum length of a feature (question and context)\n",
        "doc_stride = 128 # The authorized overlap between two part of the context when splitting it is needed."
      ]
    },
    {
      "cell_type": "markdown",
      "metadata": {
        "id": "4VWEeZP2iiks"
      },
      "source": [
        "Let's find one long example in our dataset:"
      ]
    },
    {
      "cell_type": "code",
      "execution_count": 15,
      "metadata": {
        "id": "zsQHh6kBiiks"
      },
      "outputs": [],
      "source": [
        "for i, example in enumerate(datasets[\"train\"]):\n",
        "    if len(tokenizer(example[\"question\"], example[\"context\"])[\"input_ids\"]) > 384:\n",
        "        break\n",
        "example = datasets[\"train\"][i]"
      ]
    },
    {
      "cell_type": "markdown",
      "metadata": {
        "id": "PMvPBUwKiiks"
      },
      "source": [
        "Without any truncation, we get the following length for the input IDs:"
      ]
    },
    {
      "cell_type": "code",
      "execution_count": 16,
      "metadata": {
        "id": "7SkDkVd2iikt",
        "outputId": "c8ff196f-80a0-4c1e-c61a-ee0f8a2ed5f1"
      },
      "outputs": [
        {
          "data": {
            "text/plain": [
              "472"
            ]
          },
          "execution_count": 16,
          "metadata": {},
          "output_type": "execute_result"
        }
      ],
      "source": [
        "len(tokenizer(example[\"question\"], example[\"context\"])[\"input_ids\"])"
      ]
    },
    {
      "cell_type": "markdown",
      "metadata": {
        "id": "fDdM7F9ciikt"
      },
      "source": [
        "Now, if we just truncate, we will lose information (and possibly the answer to our question):"
      ]
    },
    {
      "cell_type": "code",
      "execution_count": 17,
      "metadata": {
        "id": "8EuHqgumiikt",
        "outputId": "179f1c83-daef-4665-e86c-270309861587"
      },
      "outputs": [
        {
          "data": {
            "text/plain": [
              "384"
            ]
          },
          "execution_count": 17,
          "metadata": {},
          "output_type": "execute_result"
        }
      ],
      "source": [
        "len(tokenizer(example[\"question\"], example[\"context\"], max_length=max_length, truncation=\"only_second\")[\"input_ids\"])"
      ]
    },
    {
      "cell_type": "markdown",
      "metadata": {
        "id": "07gvmuT9iikt"
      },
      "source": [
        "Note that we never want to truncate the question, only the context, else the `only_second` truncation picked. Now, our tokenizer can automatically return us a list of features capped by a certain maximum length, with the overlap we talked above, we just have to tell it with `return_overflowing_tokens=True` and by passing the stride:"
      ]
    },
    {
      "cell_type": "code",
      "execution_count": 18,
      "metadata": {
        "id": "AtiWWCgUiikt"
      },
      "outputs": [],
      "source": [
        "tokenized_example = tokenizer(\n",
        "    example[\"question\"],\n",
        "    example[\"context\"],\n",
        "    max_length=max_length,\n",
        "    truncation=\"only_second\",\n",
        "    return_overflowing_tokens=True,\n",
        "    stride=doc_stride\n",
        ")"
      ]
    },
    {
      "cell_type": "markdown",
      "metadata": {
        "id": "TLqYVit7iiku"
      },
      "source": [
        "Now we don't have one list of `input_ids`, but several: "
      ]
    },
    {
      "cell_type": "code",
      "execution_count": 19,
      "metadata": {
        "id": "dHAawHHXiiku",
        "outputId": "18574751-23f5-4385-8766-21ecd4fdd5e6"
      },
      "outputs": [
        {
          "data": {
            "text/plain": [
              "[384, 229]"
            ]
          },
          "execution_count": 19,
          "metadata": {},
          "output_type": "execute_result"
        }
      ],
      "source": [
        "[len(x) for x in tokenized_example[\"input_ids\"]]"
      ]
    },
    {
      "cell_type": "markdown",
      "metadata": {
        "id": "0y01CcbLiiku"
      },
      "source": [
        "And if we decode them, we can see the overlap:"
      ]
    },
    {
      "cell_type": "code",
      "execution_count": 20,
      "metadata": {
        "id": "vmHR9SCwiiku",
        "outputId": "14f621f8-2f9f-4f75-8e74-0e2cc488330b"
      },
      "outputs": [
        {
          "name": "stdout",
          "output_type": "stream",
          "text": [
            "[CLS] Beyonce meni naimisiin vuonna 2008 kenen kanssa? [SEP] 4. huhtikuuta 2008 Beyoncé meni naimisiin Jay Z : n kanssa. Hän paljasti julkisesti avioliiton videomontaasissa kolmannen studioalbuminsa I Am... Sasha Fierce, Manhattanin Sony Clubilla 22. lokakuuta 2008. I Am... Sasha Fierce julkaistiin 18. marraskuuta 2008 Yhdysvalloissa. Albumi esittelee virallisesti Beyoncén alter egon Sasha Fiercen, joka syntyi hänen vuoden 2003 singleä Crazy in Love tehdessään. Se myi ensimmäisellä viikolla 482 000 kappaletta, nousi Billboard 200 - listan kärkeen ja antoi Beyoncélle kolmannen peräkkäisen listaykkösalbuminsa Yhdysvalloissa. Albumi sisälsi listaykköseksi nousseen kappaleen \" Single Ladies ( Put a Ring on It ) \" ja viiden parhaan kappaleen listalla olleet kappaleet \" If I Were a Boy \" ja \" Halo \". \" Halon \" saavutti uransa pisimpään kestäneen Hot 100 - singlen, ja sen menestys Yhdysvalloissa auttoi Beyoncéa saavuttamaan listalla enemmän top 10 - singlejä kuin kukaan muu nainen 2000 - luvulla. Siihen kuuluivat myös menestyksekäs \" Sweet Dreams \" sekä singlet \" Diva \", \" Ego \", \" Broken - Hearted Girl \" ja \" Video Phone \". Single Ladiesin musiikkivideota on parodioitu ja jäljitelty ympäri maailmaa, ja se synnytti Toronto Star - lehden mukaan internetin aikakauden \" ensimmäisen suuren tanssivillityksen \". Video on voittanut useita palkintoja, muun muassa parhaan videon palkinnon MTV Europe Music Awardseissa 2009, Skotlannin MOBO Awardseissa 2009 ja BET Awardseissa 2009. Vuoden 2009 MTV Video Music Awardsissa video oli ehdolla yhdeksän palkinnon saajaksi, joista se voitti lopulta kolme, mukaan lukien vuoden video. Sen epäonnistuminen parhaan naisvideon kategoriassa, joka meni amerikkalaiselle countrypop - laulaja Taylor [SEP]\n",
            "[CLS] Beyonce meni naimisiin vuonna 2008 kenen kanssa? [SEP] Broken - Hearted Girl \" ja \" Video Phone \". Single Ladiesin musiikkivideota on parodioitu ja jäljitelty ympäri maailmaa, ja se synnytti Toronto Star - lehden mukaan internetin aikakauden \" ensimmäisen suuren tanssivillityksen \". Video on voittanut useita palkintoja, muun muassa parhaan videon palkinnon MTV Europe Music Awardseissa 2009, Skotlannin MOBO Awardseissa 2009 ja BET Awardseissa 2009. Vuoden 2009 MTV Video Music Awardsissa video oli ehdolla yhdeksän palkinnon saajaksi, joista se voitti lopulta kolme, mukaan lukien vuoden video. Sen epäonnistuminen parhaan naisvideon kategoriassa, joka meni amerikkalaiselle countrypop - laulaja Taylor Swiftin \" You Belong with Me \" - videolle, johti siihen, että Kanye West keskeytti seremonian ja Beyoncé improvisoi Swiftin palkinnon uudelleen esittelyn oman kiitospuheensa aikana. Maaliskuussa 2009 Beyoncé aloitti I Am... World Tour - kiertueelle, joka oli hänen toinen maailmanlaajuinen pääesiintyjäkiertueensa, joka käsitti 108 keikkaa ja tuotti 119, 5 miljoonaa dollaria. [SEP]\n"
          ]
        }
      ],
      "source": [
        "for x in tokenized_example[\"input_ids\"][:2]:\n",
        "    print(tokenizer.decode(x))"
      ]
    },
    {
      "cell_type": "markdown",
      "metadata": {
        "id": "dwiV5Q2tiiku"
      },
      "source": [
        "Now this will give us some work to properly treat the answers: we need to find in which of those features the answer actually is, and where exactly in that feature. The models we will use require the start and end positions of these answers in the tokens, so we will also need to to map parts of the original context to some tokens. Thankfully, the tokenizer we're using can help us with that by returning an `offset_mapping`:"
      ]
    },
    {
      "cell_type": "code",
      "execution_count": 21,
      "metadata": {
        "id": "V7oSCKGbiikv",
        "outputId": "95e952ff-7854-40f5-c5e8-38f7078368da"
      },
      "outputs": [
        {
          "name": "stdout",
          "output_type": "stream",
          "text": [
            "[(0, 0), (0, 2), (2, 5), (5, 7), (8, 12), (13, 22), (23, 29), (30, 34), (35, 40), (41, 47), (47, 48), (0, 0), (0, 1), (1, 2), (3, 13), (14, 18), (19, 21), (21, 24), (24, 25), (25, 26), (27, 31), (32, 41), (42, 44), (44, 45), (46, 47), (47, 48), (48, 49), (50, 56), (56, 57), (58, 61), (62, 70), (71, 81), (82, 92), (93, 98), (98, 101), (101, 104), (104, 109), (110, 119), (120, 126), (126, 129), (129, 133), (133, 135), (136, 137), (138, 140), (140, 141), (141, 142), (142, 143), (144, 147), (147, 149), (150, 152), (152, 154), (154, 156), (156, 157), (158, 161), (161, 164), (164, 169), (170, 174), (175, 179), (179, 183), (184, 186), (186, 187), (188, 197), (198, 202), (202, 203), (204, 205), (206, 208), (208, 209), (209, 210), (210, 211), (212, 215), (215, 217), (218, 220), (220, 222), (222, 224), (225, 236), (237, 239), (239, 240), (241, 252), (253, 257), (258, 272), (272, 273), (274, 277), (277, 280), (281, 290), (291, 303), (304, 306), (306, 309), (309, 310), (310, 312), (313, 316), (316, 318), (319, 322), (322, 323), (324, 327), (327, 329), (330, 332), (332, 334), (334, 337), (337, 338), (339, 343)]\n"
          ]
        }
      ],
      "source": [
        "tokenized_example = tokenizer(\n",
        "    example[\"question\"],\n",
        "    example[\"context\"],\n",
        "    max_length=max_length,\n",
        "    truncation=\"only_second\",\n",
        "    return_overflowing_tokens=True,\n",
        "    return_offsets_mapping=True,\n",
        "    stride=doc_stride\n",
        ")\n",
        "print(tokenized_example[\"offset_mapping\"][0][:100])"
      ]
    },
    {
      "cell_type": "markdown",
      "metadata": {
        "id": "n_IF_q2niikv"
      },
      "source": [
        "This gives, for each index of our input IDS, the corresponding start and end character in the original text that gave our token. The very first token (`[CLS]`) has (0, 0) because it doesn't correspond to any part of the question/answer, then the second token is the same as the characters 0 to 3 of the question:"
      ]
    },
    {
      "cell_type": "code",
      "execution_count": 22,
      "metadata": {
        "id": "dg1Usa4iiikv",
        "outputId": "f2a75bd4-b89c-4232-c606-7f911f66ca7e"
      },
      "outputs": [
        {
          "name": "stdout",
          "output_type": "stream",
          "text": [
            "Be Be\n"
          ]
        }
      ],
      "source": [
        "first_token_id = tokenized_example[\"input_ids\"][0][1]\n",
        "offsets = tokenized_example[\"offset_mapping\"][0][1]\n",
        "print(tokenizer.convert_ids_to_tokens([first_token_id])[0], example[\"question\"][offsets[0]:offsets[1]])"
      ]
    },
    {
      "cell_type": "markdown",
      "metadata": {
        "id": "kZWK_Ly_iikv"
      },
      "source": [
        "So we can use this mapping to find the position of the start and end tokens of our answer in a given feature. We just have to distinguish which parts of the offsets correspond to the question and which part correspond to the context, this is where the `sequence_ids` method of our `tokenized_example` can be useful:"
      ]
    },
    {
      "cell_type": "code",
      "execution_count": 23,
      "metadata": {
        "id": "KoZ4GDdFiikv",
        "outputId": "fc94b6a7-5862-4c83-da29-a5374d10904f"
      },
      "outputs": [
        {
          "name": "stdout",
          "output_type": "stream",
          "text": [
            "[None, 0, 0, 0, 0, 0, 0, 0, 0, 0, 0, None, 1, 1, 1, 1, 1, 1, 1, 1, 1, 1, 1, 1, 1, 1, 1, 1, 1, 1, 1, 1, 1, 1, 1, 1, 1, 1, 1, 1, 1, 1, 1, 1, 1, 1, 1, 1, 1, 1, 1, 1, 1, 1, 1, 1, 1, 1, 1, 1, 1, 1, 1, 1, 1, 1, 1, 1, 1, 1, 1, 1, 1, 1, 1, 1, 1, 1, 1, 1, 1, 1, 1, 1, 1, 1, 1, 1, 1, 1, 1, 1, 1, 1, 1, 1, 1, 1, 1, 1, 1, 1, 1, 1, 1, 1, 1, 1, 1, 1, 1, 1, 1, 1, 1, 1, 1, 1, 1, 1, 1, 1, 1, 1, 1, 1, 1, 1, 1, 1, 1, 1, 1, 1, 1, 1, 1, 1, 1, 1, 1, 1, 1, 1, 1, 1, 1, 1, 1, 1, 1, 1, 1, 1, 1, 1, 1, 1, 1, 1, 1, 1, 1, 1, 1, 1, 1, 1, 1, 1, 1, 1, 1, 1, 1, 1, 1, 1, 1, 1, 1, 1, 1, 1, 1, 1, 1, 1, 1, 1, 1, 1, 1, 1, 1, 1, 1, 1, 1, 1, 1, 1, 1, 1, 1, 1, 1, 1, 1, 1, 1, 1, 1, 1, 1, 1, 1, 1, 1, 1, 1, 1, 1, 1, 1, 1, 1, 1, 1, 1, 1, 1, 1, 1, 1, 1, 1, 1, 1, 1, 1, 1, 1, 1, 1, 1, 1, 1, 1, 1, 1, 1, 1, 1, 1, 1, 1, 1, 1, 1, 1, 1, 1, 1, 1, 1, 1, 1, 1, 1, 1, 1, 1, 1, 1, 1, 1, 1, 1, 1, 1, 1, 1, 1, 1, 1, 1, 1, 1, 1, 1, 1, 1, 1, 1, 1, 1, 1, 1, 1, 1, 1, 1, 1, 1, 1, 1, 1, 1, 1, 1, 1, 1, 1, 1, 1, 1, 1, 1, 1, 1, 1, 1, 1, 1, 1, 1, 1, 1, 1, 1, 1, 1, 1, 1, 1, 1, 1, 1, 1, 1, 1, 1, 1, 1, 1, 1, 1, 1, 1, 1, 1, 1, 1, 1, 1, 1, 1, 1, 1, 1, 1, 1, 1, 1, 1, 1, 1, 1, 1, 1, 1, 1, 1, 1, 1, 1, 1, 1, 1, 1, 1, 1, None]\n"
          ]
        }
      ],
      "source": [
        "sequence_ids = tokenized_example.sequence_ids()\n",
        "print(sequence_ids)"
      ]
    },
    {
      "cell_type": "markdown",
      "metadata": {
        "id": "OreHHXzRiikw"
      },
      "source": [
        "It returns `None` for the special tokens, then 0 or 1 depending on whether the corresponding token comes from the first sentence past (the question) or the second (the context). Now with all of this, we can find the first and last token of the answer in one of our input feature (or if the answer is not in this feature):"
      ]
    },
    {
      "cell_type": "code",
      "execution_count": 24,
      "metadata": {
        "id": "U5TysRnriikx",
        "outputId": "b5bc81f9-10c1-46df-c659-c46ce9bfa1aa"
      },
      "outputs": [
        {
          "name": "stdout",
          "output_type": "stream",
          "text": [
            "22 27\n"
          ]
        }
      ],
      "source": [
        "answers = example[\"answers\"]\n",
        "start_char = answers[\"answer_start\"][0]\n",
        "end_char = start_char + len(answers[\"text\"][0])\n",
        "\n",
        "# Start token index of the current span in the text.\n",
        "token_start_index = 0\n",
        "while sequence_ids[token_start_index] != 1:\n",
        "    token_start_index += 1\n",
        "\n",
        "# End token index of the current span in the text.\n",
        "token_end_index = len(tokenized_example[\"input_ids\"][0]) - 1\n",
        "while sequence_ids[token_end_index] != 1:\n",
        "    token_end_index -= 1\n",
        "\n",
        "# Detect if the answer is out of the span (in which case this feature is labeled with the CLS index).\n",
        "offsets = tokenized_example[\"offset_mapping\"][0]\n",
        "if (offsets[token_start_index][0] <= start_char and offsets[token_end_index][1] >= end_char):\n",
        "    # Move the token_start_index and token_end_index to the two ends of the answer.\n",
        "    # Note: we could go after the last offset if the answer is the last word (edge case).\n",
        "    while token_start_index < len(offsets) and offsets[token_start_index][0] <= start_char:\n",
        "        token_start_index += 1\n",
        "    start_position = token_start_index - 1\n",
        "    while offsets[token_end_index][1] >= end_char:\n",
        "        token_end_index -= 1\n",
        "    end_position = token_end_index + 1\n",
        "    print(start_position, end_position)\n",
        "else:\n",
        "    print(\"The answer is not in this feature.\")"
      ]
    },
    {
      "cell_type": "markdown",
      "metadata": {
        "id": "XZnxcc64iikx"
      },
      "source": [
        "And we can double check that it is indeed the theoretical answer:"
      ]
    },
    {
      "cell_type": "code",
      "execution_count": 25,
      "metadata": {
        "id": "l0GQTKeZiikx",
        "outputId": "6f95ce04-5eba-457b-ae1f-b12bb1dc53d5"
      },
      "outputs": [
        {
          "name": "stdout",
          "output_type": "stream",
          "text": [
            "Jay Z : n kanssa\n",
            "Jay Z:n kanssa\n"
          ]
        }
      ],
      "source": [
        "print(tokenizer.decode(tokenized_example[\"input_ids\"][0][start_position: end_position+1]))\n",
        "print(answers[\"text\"][0])"
      ]
    },
    {
      "cell_type": "markdown",
      "metadata": {
        "id": "4_Zop9MKiikx"
      },
      "source": [
        "For this notebook to work with any kind of models, we need to account for the special case where the model expects padding on the left (in which case we switch the order of the question and the context):"
      ]
    },
    {
      "cell_type": "code",
      "execution_count": 26,
      "metadata": {
        "id": "efzX87jbiikx"
      },
      "outputs": [],
      "source": [
        "pad_on_right = tokenizer.padding_side == \"right\""
      ]
    },
    {
      "cell_type": "markdown",
      "metadata": {
        "id": "C-Daf_B2iikx"
      },
      "source": [
        "Now let's put everything together in one function we will apply to our training set. In the case of impossible answers (the answer is in another feature given by an example with a long context), we set the cls index for both the start and end position. We could also simply discard those examples from the training set if the flag `allow_impossible_answers` is `False`. Since the preprocessing is already complex enough as it is, we've kept is simple for this part."
      ]
    },
    {
      "cell_type": "code",
      "execution_count": 27,
      "metadata": {
        "id": "4dsW30Bziikx"
      },
      "outputs": [],
      "source": [
        "def prepare_train_features(examples):\n",
        "    # Some of the questions have lots of whitespace on the left, which is not useful and will make the\n",
        "    # truncation of the context fail (the tokenized question will take a lots of space). So we remove that\n",
        "    # left whitespace\n",
        "    examples[\"question\"] = [q.lstrip() for q in examples[\"question\"]]\n",
        "\n",
        "    # Tokenize our examples with truncation and padding, but keep the overflows using a stride. This results\n",
        "    # in one example possible giving several features when a context is long, each of those features having a\n",
        "    # context that overlaps a bit the context of the previous feature.\n",
        "    tokenized_examples = tokenizer(\n",
        "        examples[\"question\" if pad_on_right else \"context\"],\n",
        "        examples[\"context\" if pad_on_right else \"question\"],\n",
        "        truncation=\"only_second\" if pad_on_right else \"only_first\",\n",
        "        max_length=max_length,\n",
        "        stride=doc_stride,\n",
        "        return_overflowing_tokens=True,\n",
        "        return_offsets_mapping=True,\n",
        "        padding=\"max_length\",\n",
        "    )\n",
        "\n",
        "    # Since one example might give us several features if it has a long context, we need a map from a feature to\n",
        "    # its corresponding example. This key gives us just that.\n",
        "    sample_mapping = tokenized_examples.pop(\"overflow_to_sample_mapping\")\n",
        "    # The offset mappings will give us a map from token to character position in the original context. This will\n",
        "    # help us compute the start_positions and end_positions.\n",
        "    offset_mapping = tokenized_examples.pop(\"offset_mapping\")\n",
        "\n",
        "    # Let's label those examples!\n",
        "    tokenized_examples[\"start_positions\"] = []\n",
        "    tokenized_examples[\"end_positions\"] = []\n",
        "\n",
        "    for i, offsets in enumerate(offset_mapping):\n",
        "        # We will label impossible answers with the index of the CLS token.\n",
        "        input_ids = tokenized_examples[\"input_ids\"][i]\n",
        "        cls_index = input_ids.index(tokenizer.cls_token_id)\n",
        "\n",
        "        # Grab the sequence corresponding to that example (to know what is the context and what is the question).\n",
        "        sequence_ids = tokenized_examples.sequence_ids(i)\n",
        "\n",
        "        # One example can give several spans, this is the index of the example containing this span of text.\n",
        "        sample_index = sample_mapping[i]\n",
        "        answers = examples[\"answers\"][sample_index]\n",
        "        # If no answers are given, set the cls_index as answer.\n",
        "        if len(answers[\"answer_start\"]) == 0:\n",
        "            tokenized_examples[\"start_positions\"].append(cls_index)\n",
        "            tokenized_examples[\"end_positions\"].append(cls_index)\n",
        "        else:\n",
        "            # Start/end character index of the answer in the text.\n",
        "            start_char = answers[\"answer_start\"][0]\n",
        "            end_char = start_char + len(answers[\"text\"][0])\n",
        "\n",
        "            # Start token index of the current span in the text.\n",
        "            token_start_index = 0\n",
        "            while sequence_ids[token_start_index] != (1 if pad_on_right else 0):\n",
        "                token_start_index += 1\n",
        "\n",
        "            # End token index of the current span in the text.\n",
        "            token_end_index = len(input_ids) - 1\n",
        "            while sequence_ids[token_end_index] != (1 if pad_on_right else 0):\n",
        "                token_end_index -= 1\n",
        "\n",
        "            # Detect if the answer is out of the span (in which case this feature is labeled with the CLS index).\n",
        "            if not (offsets[token_start_index][0] <= start_char and offsets[token_end_index][1] >= end_char):\n",
        "                tokenized_examples[\"start_positions\"].append(cls_index)\n",
        "                tokenized_examples[\"end_positions\"].append(cls_index)\n",
        "            else:\n",
        "                # Otherwise move the token_start_index and token_end_index to the two ends of the answer.\n",
        "                # Note: we could go after the last offset if the answer is the last word (edge case).\n",
        "                while token_start_index < len(offsets) and offsets[token_start_index][0] <= start_char:\n",
        "                    token_start_index += 1\n",
        "                tokenized_examples[\"start_positions\"].append(token_start_index - 1)\n",
        "                while offsets[token_end_index][1] >= end_char:\n",
        "                    token_end_index -= 1\n",
        "                tokenized_examples[\"end_positions\"].append(token_end_index + 1)\n",
        "\n",
        "    return tokenized_examples"
      ]
    },
    {
      "cell_type": "markdown",
      "metadata": {
        "id": "0lm8ozrJIrJR"
      },
      "source": [
        "This function works with one or several examples. In the case of several examples, the tokenizer will return a list of lists for each key:"
      ]
    },
    {
      "cell_type": "code",
      "execution_count": 28,
      "metadata": {
        "id": "-b70jh26IrJS"
      },
      "outputs": [],
      "source": [
        "features = prepare_train_features(datasets['train'][:5])"
      ]
    },
    {
      "cell_type": "markdown",
      "metadata": {
        "id": "zS-6iXTkIrJT"
      },
      "source": [
        "To apply this function on all the sentences (or pairs of sentences) in our dataset, we just use the `map` method of our `dataset` object we created earlier. This will apply the function on all the elements of all the splits in `dataset`, so our training, validation and testing data will be preprocessed in one single command. Since our preprocessing changes the number of samples, we need to remove the old columns when applying it."
      ]
    },
    {
      "cell_type": "code",
      "execution_count": 29,
      "metadata": {
        "id": "DDtsaJeVIrJT",
        "outputId": "aa4734bf-4ef5-4437-9948-2c16363da719"
      },
      "outputs": [
        {
          "name": "stderr",
          "output_type": "stream",
          "text": [
            "100%|██████████| 131/131 [00:23<00:00,  5.58ba/s]\n",
            "100%|██████████| 12/12 [00:02<00:00,  5.56ba/s]\n"
          ]
        }
      ],
      "source": [
        "tokenized_datasets = datasets.map(prepare_train_features, batched=True, remove_columns=datasets[\"train\"].column_names)"
      ]
    },
    {
      "cell_type": "markdown",
      "metadata": {
        "id": "voWiw8C7IrJV"
      },
      "source": [
        "Even better, the results are automatically cached by the 🤗 Datasets library to avoid spending time on this step the next time you run your notebook. The 🤗 Datasets library is normally smart enough to detect when the function you pass to map has changed (and thus requires to not use the cache data). For instance, it will properly detect if you change the task in the first cell and rerun the notebook. 🤗 Datasets warns you when it uses cached files, you can pass `load_from_cache_file=False` in the call to `map` to not use the cached files and force the preprocessing to be applied again.\n",
        "\n",
        "Note that we passed `batched=True` to encode the texts by batches together. This is to leverage the full benefit of the fast tokenizer we loaded earlier, which will use multi-threading to treat the texts in a batch concurrently."
      ]
    },
    {
      "cell_type": "markdown",
      "metadata": {
        "id": "545PP3o8IrJV"
      },
      "source": [
        "## Fine-tuning the model"
      ]
    },
    {
      "cell_type": "markdown",
      "metadata": {
        "id": "FBiW8UpKIrJW"
      },
      "source": [
        "Now that our data is ready for training, we can download the pretrained model and fine-tune it. Since our task is question answering, we use the `AutoModelForQuestionAnswering` class. Like with the tokenizer, the `from_pretrained` method will download and cache the model for us:"
      ]
    },
    {
      "cell_type": "code",
      "execution_count": 30,
      "metadata": {
        "id": "TlqNaB8jIrJW",
        "outputId": "84916cf3-6e6c-47f3-d081-032ec30a4132"
      },
      "outputs": [
        {
          "name": "stderr",
          "output_type": "stream",
          "text": [
            "Downloading: 100%|██████████| 478M/478M [00:14<00:00, 33.8MB/s] \n",
            "Some weights of the model checkpoint at TurkuNLP/bert-base-finnish-cased-v1 were not used when initializing BertForQuestionAnswering: ['cls.predictions.transform.LayerNorm.weight', 'cls.predictions.transform.dense.weight', 'cls.predictions.transform.LayerNorm.bias', 'cls.predictions.transform.dense.bias', 'cls.predictions.bias', 'cls.predictions.decoder.weight', 'cls.seq_relationship.bias', 'cls.seq_relationship.weight']\n",
            "- This IS expected if you are initializing BertForQuestionAnswering from the checkpoint of a model trained on another task or with another architecture (e.g. initializing a BertForSequenceClassification model from a BertForPreTraining model).\n",
            "- This IS NOT expected if you are initializing BertForQuestionAnswering from the checkpoint of a model that you expect to be exactly identical (initializing a BertForSequenceClassification model from a BertForSequenceClassification model).\n",
            "Some weights of BertForQuestionAnswering were not initialized from the model checkpoint at TurkuNLP/bert-base-finnish-cased-v1 and are newly initialized: ['qa_outputs.weight', 'qa_outputs.bias']\n",
            "You should probably TRAIN this model on a down-stream task to be able to use it for predictions and inference.\n"
          ]
        }
      ],
      "source": [
        "from transformers import AutoModelForQuestionAnswering, TrainingArguments, Trainer\n",
        "\n",
        "model = AutoModelForQuestionAnswering.from_pretrained(model_checkpoint)"
      ]
    },
    {
      "cell_type": "markdown",
      "metadata": {
        "id": "CczA5lJlIrJX"
      },
      "source": [
        "The warning is telling us we are throwing away some weights (the `vocab_transform` and `vocab_layer_norm` layers) and randomly initializing some other (the `pre_classifier` and `classifier` layers). This is absolutely normal in this case, because we are removing the head used to pretrain the model on a masked language modeling objective and replacing it with a new head for which we don't have pretrained weights, so the library warns us we should fine-tune this model before using it for inference, which is exactly what we are going to do."
      ]
    },
    {
      "cell_type": "markdown",
      "metadata": {
        "id": "_N8urzhyIrJY"
      },
      "source": [
        "To instantiate a `Trainer`, we will need to define three more things. The most important is the [`TrainingArguments`](https://huggingface.co/transformers/main_classes/trainer.html#transformers.TrainingArguments), which is a class that contains all the attributes to customize the training. It requires one folder name, which will be used to save the checkpoints of the model, and all other arguments are optional:"
      ]
    },
    {
      "cell_type": "code",
      "execution_count": 31,
      "metadata": {
        "id": "Bliy8zgjIrJY"
      },
      "outputs": [],
      "source": [
        "model_name = model_checkpoint.split(\"/\")[-1]\n",
        "args = TrainingArguments(\n",
        "    f\"{model_name}-finetuned-squad\",\n",
        "    evaluation_strategy = \"epoch\",\n",
        "    learning_rate=2e-5,\n",
        "    per_device_train_batch_size=batch_size,\n",
        "    per_device_eval_batch_size=batch_size,\n",
        "    num_train_epochs=3,\n",
        "    weight_decay=0.01,\n",
        "    push_to_hub=False,\n",
        ")"
      ]
    },
    {
      "cell_type": "markdown",
      "metadata": {
        "id": "km3pGVdTIrJc"
      },
      "source": [
        "Here we set the evaluation to be done at the end of each epoch, tweak the learning rate, use the `batch_size` defined at the top of the notebook and customize the number of epochs for training, as well as the weight decay.\n",
        "\n",
        "The last argument to setup everything so we can push the model to the [Hub](https://huggingface.co/models) regularly during training. Remove it if you didn't follow the installation steps at the top of the notebook. If you want to save your model locally in a name that is different than the name of the repository it will be pushed, or if you want to push your model under an organization and not your name space, use the `hub_model_id` argument to set the repo name (it needs to be the full name, including your namespace: for instance `\"sgugger/bert-finetuned-squad\"` or `\"huggingface/bert-finetuned-squad\"`)."
      ]
    },
    {
      "cell_type": "markdown",
      "metadata": {
        "id": "ycfv54m2iikz"
      },
      "source": [
        "Then we will need a data collator that will batch our processed examples together, here the default one will work:"
      ]
    },
    {
      "cell_type": "code",
      "execution_count": 32,
      "metadata": {
        "id": "TECrI7Ieiikz"
      },
      "outputs": [],
      "source": [
        "from transformers import default_data_collator\n",
        "\n",
        "data_collator = default_data_collator"
      ]
    },
    {
      "cell_type": "markdown",
      "metadata": {
        "id": "rXuFTAzDIrJe"
      },
      "source": [
        "We will evaluate our model and compute metrics in the next section (this is a very long operation, so we will only compute the evaluation loss during training).\n",
        "\n",
        "Then we just need to pass all of this along with our datasets to the `Trainer`:"
      ]
    },
    {
      "cell_type": "code",
      "execution_count": 33,
      "metadata": {
        "id": "imY1oC3SIrJf"
      },
      "outputs": [],
      "source": [
        "trainer = Trainer(\n",
        "    model,\n",
        "    args,\n",
        "    train_dataset=tokenized_datasets[\"train\"],\n",
        "    eval_dataset=tokenized_datasets[\"validation\"],\n",
        "    data_collator=data_collator,\n",
        "    tokenizer=tokenizer,\n",
        ")"
      ]
    },
    {
      "cell_type": "markdown",
      "metadata": {
        "id": "CdzABDVcIrJg"
      },
      "source": [
        "We can now finetune our model by just calling the `train` method:"
      ]
    },
    {
      "cell_type": "code",
      "execution_count": null,
      "metadata": {
        "id": "uNx5pyRlIrJh",
        "outputId": "077e661e-d36c-469b-89b8-7ff7f73541ec"
      },
      "outputs": [],
      "source": [
        "trainer.train()"
      ]
    },
    {
      "cell_type": "markdown",
      "metadata": {
        "id": "Q_V6Hd2diik0"
      },
      "source": [
        "Since this training is particularly long, let's save the model just in case we need to restart."
      ]
    },
    {
      "cell_type": "code",
      "execution_count": null,
      "metadata": {
        "id": "xAbz8pXriik0"
      },
      "outputs": [],
      "source": [
        "trainer.save_model(\"test-squad-trained\")"
      ]
    },
    {
      "cell_type": "markdown",
      "metadata": {
        "id": "_A_WfcYfiik0"
      },
      "source": [
        "## Evaluation"
      ]
    },
    {
      "cell_type": "markdown",
      "metadata": {
        "id": "2o4uS3Lqiik0"
      },
      "source": [
        "Evaluating our model will require a bit more work, as we will need to map the predictions of our model back to parts of the context. The model itself predicts logits for the start and en position of our answers: if we take a batch from our validation datalaoder, here is the output our model gives us:"
      ]
    },
    {
      "cell_type": "code",
      "execution_count": null,
      "metadata": {
        "id": "ZrNkj2g1iik0",
        "outputId": "46eed8e8-f4cb-4cf6-dfc6-0e4f38f50ef5"
      },
      "outputs": [],
      "source": [
        "import torch\n",
        "\n",
        "for batch in trainer.get_eval_dataloader():\n",
        "    break\n",
        "batch = {k: v.to(trainer.args.device) for k, v in batch.items()}\n",
        "with torch.no_grad():\n",
        "    output = trainer.model(**batch)\n",
        "output.keys()"
      ]
    },
    {
      "cell_type": "markdown",
      "metadata": {
        "id": "S_Krk12miik0"
      },
      "source": [
        "The output of the model is a dict-like object that contains the loss (since we provided labels), the start and end logits. We won't need the loss for our predictions, let's have a look a the logits:"
      ]
    },
    {
      "cell_type": "code",
      "execution_count": null,
      "metadata": {
        "id": "FF81r0Fmiik0",
        "outputId": "ed8c1b1f-0f14-4188-8e8d-4307ed32f9bd"
      },
      "outputs": [],
      "source": [
        "output.start_logits.shape, output.end_logits.shape"
      ]
    },
    {
      "cell_type": "markdown",
      "metadata": {
        "id": "w0tlGKRfiik0"
      },
      "source": [
        "We have one logit for each feature and each token. The most obvious thing to predict an answer for each featyre is to take the index for the maximum of the start logits as a start position and the index of the maximum of the end logits as an end position."
      ]
    },
    {
      "cell_type": "code",
      "execution_count": null,
      "metadata": {
        "id": "rm7mfVYXiik0",
        "outputId": "3522e28e-90b0-467e-c6a6-8615546c5061"
      },
      "outputs": [],
      "source": [
        "output.start_logits.argmax(dim=-1), output.end_logits.argmax(dim=-1)"
      ]
    },
    {
      "cell_type": "markdown",
      "metadata": {
        "id": "SZS3aW8niik2"
      },
      "source": [
        "This will work great in a lot of cases, but what if this prediction gives us something impossible: the start position could be greater than the end position, or point to a span of text in the question instead of the answer. In that case, we might want to look at the second best prediction to see if it gives a possible answer and select that instead.\n",
        "\n",
        "However, picking the second best answer is not as easy as picking the best one: is it the second best index in the start logits with the best index in the end logits? Or the best index in the start logits with the second best index in the end logits? And if that second best answer is not possible either, it gets even trickier for the third best answer.\n",
        "\n",
        "\n",
        "To classify our answers, we will use the score obtained by adding the start and end logits. We won't try to order all the possible answers and limit ourselves to with a hyper-parameter we call `n_best_size`. We'll pick the best indices in the start and end logits and gather all the answers this predicts. After checking if each one is valid, we will sort them by their score and keep the best one. Here is how we would do this on the first feature in the batch:"
      ]
    },
    {
      "cell_type": "code",
      "execution_count": null,
      "metadata": {
        "id": "UOThctvSiik2"
      },
      "outputs": [],
      "source": [
        "n_best_size = 20"
      ]
    },
    {
      "cell_type": "code",
      "execution_count": null,
      "metadata": {
        "id": "Iwo1up8Riik2"
      },
      "outputs": [],
      "source": [
        "import numpy as np\n",
        "\n",
        "start_logits = output.start_logits[0].cpu().numpy()\n",
        "end_logits = output.end_logits[0].cpu().numpy()\n",
        "# Gather the indices the best start/end logits:\n",
        "start_indexes = np.argsort(start_logits)[-1 : -n_best_size - 1 : -1].tolist()\n",
        "end_indexes = np.argsort(end_logits)[-1 : -n_best_size - 1 : -1].tolist()\n",
        "valid_answers = []\n",
        "for start_index in start_indexes:\n",
        "    for end_index in end_indexes:\n",
        "        if start_index <= end_index: # We need to refine that test to check the answer is inside the context\n",
        "            valid_answers.append(\n",
        "                {\n",
        "                    \"score\": start_logits[start_index] + end_logits[end_index],\n",
        "                    \"text\": \"\" # We need to find a way to get back the original substring corresponding to the answer in the context\n",
        "                }\n",
        "            )"
      ]
    },
    {
      "cell_type": "markdown",
      "metadata": {
        "id": "C6ItuCa_iik2"
      },
      "source": [
        "And then we can sort the `valid_answers` according to their `score` and only keep the best one. The only point left is how to check a given span is inside the context (and not the question) and how to get back the text inside. To do this, we need to add two things to our validation features:\n",
        "- the ID of the example that generated the feature (since each example can generate several features, as seen before);\n",
        "- the offset mapping that will give us a map from token indices to character positions in the context.\n",
        "\n",
        "That's why we will re-process the validation set with the following function, slightly different from `prepare_train_features`:"
      ]
    },
    {
      "cell_type": "code",
      "execution_count": null,
      "metadata": {
        "id": "ZFpaRVehiik2"
      },
      "outputs": [],
      "source": [
        "def prepare_validation_features(examples):\n",
        "    # Some of the questions have lots of whitespace on the left, which is not useful and will make the\n",
        "    # truncation of the context fail (the tokenized question will take a lots of space). So we remove that\n",
        "    # left whitespace\n",
        "    examples[\"question\"] = [q.lstrip() for q in examples[\"question\"]]\n",
        "\n",
        "    # Tokenize our examples with truncation and maybe padding, but keep the overflows using a stride. This results\n",
        "    # in one example possible giving several features when a context is long, each of those features having a\n",
        "    # context that overlaps a bit the context of the previous feature.\n",
        "    tokenized_examples = tokenizer(\n",
        "        examples[\"question\" if pad_on_right else \"context\"],\n",
        "        examples[\"context\" if pad_on_right else \"question\"],\n",
        "        truncation=\"only_second\" if pad_on_right else \"only_first\",\n",
        "        max_length=max_length,\n",
        "        stride=doc_stride,\n",
        "        return_overflowing_tokens=True,\n",
        "        return_offsets_mapping=True,\n",
        "        padding=\"max_length\",\n",
        "    )\n",
        "\n",
        "    # Since one example might give us several features if it has a long context, we need a map from a feature to\n",
        "    # its corresponding example. This key gives us just that.\n",
        "    sample_mapping = tokenized_examples.pop(\"overflow_to_sample_mapping\")\n",
        "\n",
        "    # We keep the example_id that gave us this feature and we will store the offset mappings.\n",
        "    tokenized_examples[\"example_id\"] = []\n",
        "\n",
        "    for i in range(len(tokenized_examples[\"input_ids\"])):\n",
        "        # Grab the sequence corresponding to that example (to know what is the context and what is the question).\n",
        "        sequence_ids = tokenized_examples.sequence_ids(i)\n",
        "        context_index = 1 if pad_on_right else 0\n",
        "\n",
        "        # One example can give several spans, this is the index of the example containing this span of text.\n",
        "        sample_index = sample_mapping[i]\n",
        "        tokenized_examples[\"example_id\"].append(examples[\"id\"][sample_index])\n",
        "\n",
        "        # Set to None the offset_mapping that are not part of the context so it's easy to determine if a token\n",
        "        # position is part of the context or not.\n",
        "        tokenized_examples[\"offset_mapping\"][i] = [\n",
        "            (o if sequence_ids[k] == context_index else None)\n",
        "            for k, o in enumerate(tokenized_examples[\"offset_mapping\"][i])\n",
        "        ]\n",
        "\n",
        "    return tokenized_examples"
      ]
    },
    {
      "cell_type": "markdown",
      "metadata": {
        "id": "xpDlWTZpiik2"
      },
      "source": [
        "And like before, we can apply that function to our validation set easily:"
      ]
    },
    {
      "cell_type": "code",
      "execution_count": null,
      "metadata": {
        "id": "a_WixNMniik2",
        "outputId": "19ad1344-9782-407e-93a5-929b0e515aca"
      },
      "outputs": [],
      "source": [
        "validation_features = datasets[\"validation\"].map(\n",
        "    prepare_validation_features,\n",
        "    batched=True,\n",
        "    remove_columns=datasets[\"validation\"].column_names\n",
        ")"
      ]
    },
    {
      "cell_type": "markdown",
      "metadata": {
        "id": "Vp-K1ipjiik3"
      },
      "source": [
        "Now we can grab the predictions for all features by using the `Trainer.predict` method:"
      ]
    },
    {
      "cell_type": "code",
      "execution_count": null,
      "metadata": {
        "id": "jzEZkJUZiik4",
        "outputId": "fe7ac070-089b-4ab1-c5f1-9901e67e06da"
      },
      "outputs": [],
      "source": [
        "raw_predictions = trainer.predict(validation_features)"
      ]
    },
    {
      "cell_type": "markdown",
      "metadata": {
        "id": "SXqGvvdIiik4"
      },
      "source": [
        "The `Trainer` *hides* the columns that are not used by the model (here `example_id` and `offset_mapping` which we will need for our post-processing), so we set them back:"
      ]
    },
    {
      "cell_type": "code",
      "execution_count": null,
      "metadata": {
        "id": "9ThnHVl7iik5"
      },
      "outputs": [],
      "source": [
        "validation_features.set_format(type=validation_features.format[\"type\"], columns=list(validation_features.features.keys()))"
      ]
    },
    {
      "cell_type": "markdown",
      "metadata": {
        "id": "-xJzlDUMiik5"
      },
      "source": [
        "We can now refine the test we had before: since we set `None` in the offset mappings when it corresponds to a part of the question, it's easy to check if an answer is fully inside the context. We also eliminate very long answers from our considerations (with an hyper-parameter we can tune)"
      ]
    },
    {
      "cell_type": "code",
      "execution_count": null,
      "metadata": {
        "id": "pkccMFXJiik5"
      },
      "outputs": [],
      "source": [
        "max_answer_length = 30"
      ]
    },
    {
      "cell_type": "code",
      "execution_count": null,
      "metadata": {
        "id": "nnKOG3bciik5",
        "outputId": "f21c7469-ec33-46a4-8320-798c88ed67c4"
      },
      "outputs": [],
      "source": [
        "start_logits = output.start_logits[0].cpu().numpy()\n",
        "end_logits = output.end_logits[0].cpu().numpy()\n",
        "offset_mapping = validation_features[0][\"offset_mapping\"]\n",
        "# The first feature comes from the first example. For the more general case, we will need to be match the example_id to\n",
        "# an example index\n",
        "context = datasets[\"validation\"][0][\"context\"]\n",
        "\n",
        "# Gather the indices the best start/end logits:\n",
        "start_indexes = np.argsort(start_logits)[-1 : -n_best_size - 1 : -1].tolist()\n",
        "end_indexes = np.argsort(end_logits)[-1 : -n_best_size - 1 : -1].tolist()\n",
        "valid_answers = []\n",
        "for start_index in start_indexes:\n",
        "    for end_index in end_indexes:\n",
        "        # Don't consider out-of-scope answers, either because the indices are out of bounds or correspond\n",
        "        # to part of the input_ids that are not in the context.\n",
        "        if (\n",
        "            start_index >= len(offset_mapping)\n",
        "            or end_index >= len(offset_mapping)\n",
        "            or offset_mapping[start_index] is None\n",
        "            or offset_mapping[end_index] is None\n",
        "        ):\n",
        "            continue\n",
        "        # Don't consider answers with a length that is either < 0 or > max_answer_length.\n",
        "        if end_index < start_index or end_index - start_index + 1 > max_answer_length:\n",
        "            continue\n",
        "        if start_index <= end_index: # We need to refine that test to check the answer is inside the context\n",
        "            start_char = offset_mapping[start_index][0]\n",
        "            end_char = offset_mapping[end_index][1]\n",
        "            valid_answers.append(\n",
        "                {\n",
        "                    \"score\": start_logits[start_index] + end_logits[end_index],\n",
        "                    \"text\": context[start_char: end_char]\n",
        "                }\n",
        "            )\n",
        "\n",
        "valid_answers = sorted(valid_answers, key=lambda x: x[\"score\"], reverse=True)[:n_best_size]\n",
        "valid_answers"
      ]
    },
    {
      "cell_type": "markdown",
      "metadata": {
        "id": "dQqr5ZDPiik5"
      },
      "source": [
        "We can compare to the actual ground-truth answer:"
      ]
    },
    {
      "cell_type": "code",
      "execution_count": null,
      "metadata": {
        "id": "oP_WA4C9iik5",
        "outputId": "a4d49bab-35ec-46a7-dc11-42f02893b334"
      },
      "outputs": [],
      "source": [
        "datasets[\"validation\"][0][\"answers\"]"
      ]
    },
    {
      "cell_type": "markdown",
      "metadata": {
        "id": "zCcRCns-iik5"
      },
      "source": [
        "Our model picked the right as the most likely answer!\n",
        "\n",
        "As we mentioned in the code above, this was easy on the first feature because we knew it comes from the first example. For the other features, we will need a map between examples and their corresponding features. Also, since one example can give several features, we will need to gather together all the answers in all the features generated by a given example, then pick the best one. The following code builds a map from example index to its corresponding features indices:"
      ]
    },
    {
      "cell_type": "code",
      "execution_count": null,
      "metadata": {
        "id": "zkMTCt4Ziik5"
      },
      "outputs": [],
      "source": [
        "import collections\n",
        "\n",
        "examples = datasets[\"validation\"]\n",
        "features = validation_features\n",
        "\n",
        "example_id_to_index = {k: i for i, k in enumerate(examples[\"id\"])}\n",
        "features_per_example = collections.defaultdict(list)\n",
        "for i, feature in enumerate(features):\n",
        "    features_per_example[example_id_to_index[feature[\"example_id\"]]].append(i)"
      ]
    },
    {
      "cell_type": "markdown",
      "metadata": {
        "id": "a2hEZkw3iik6"
      },
      "source": [
        "We're almost ready for our post-processing function. The last bit to deal with is the impossible answer (when `squad_v2 = True`). The code above only keeps answers that are inside the context, we need to also grab the score for the impossible answer (which has start and end indices corresponding to the index of the CLS token). When one example gives several features, we have to predict the impossible answer when all the features give a high score to the impossible answer (since one feature could predict the impossible answer just because the answer isn't in the part of the context it has access too), which is why the score of the impossible answer for one example is the *minimum* of the scores for the impossible answer in each feature generated by the example.\n",
        "\n",
        "We then predict the impossible answer when that score is greater than the score of the best non-impossible answer. All combined together, this gives us this post-processing function:"
      ]
    },
    {
      "cell_type": "code",
      "execution_count": null,
      "metadata": {
        "id": "_pMiomeliik6"
      },
      "outputs": [],
      "source": [
        "from tqdm.auto import tqdm\n",
        "\n",
        "def postprocess_qa_predictions(examples, features, raw_predictions, n_best_size = 20, max_answer_length = 30):\n",
        "    all_start_logits, all_end_logits = raw_predictions\n",
        "    # Build a map example to its corresponding features.\n",
        "    example_id_to_index = {k: i for i, k in enumerate(examples[\"id\"])}\n",
        "    features_per_example = collections.defaultdict(list)\n",
        "    for i, feature in enumerate(features):\n",
        "        features_per_example[example_id_to_index[feature[\"example_id\"]]].append(i)\n",
        "\n",
        "    # The dictionaries we have to fill.\n",
        "    predictions = collections.OrderedDict()\n",
        "\n",
        "    # Logging.\n",
        "    print(f\"Post-processing {len(examples)} example predictions split into {len(features)} features.\")\n",
        "\n",
        "    # Let's loop over all the examples!\n",
        "    for example_index, example in enumerate(tqdm(examples)):\n",
        "        # Those are the indices of the features associated to the current example.\n",
        "        feature_indices = features_per_example[example_index]\n",
        "\n",
        "        min_null_score = None # Only used if squad_v2 is True.\n",
        "        valid_answers = []\n",
        "        \n",
        "        context = example[\"context\"]\n",
        "        # Looping through all the features associated to the current example.\n",
        "        for feature_index in feature_indices:\n",
        "            # We grab the predictions of the model for this feature.\n",
        "            start_logits = all_start_logits[feature_index]\n",
        "            end_logits = all_end_logits[feature_index]\n",
        "            # This is what will allow us to map some the positions in our logits to span of texts in the original\n",
        "            # context.\n",
        "            offset_mapping = features[feature_index][\"offset_mapping\"]\n",
        "\n",
        "            # Update minimum null prediction.\n",
        "            cls_index = features[feature_index][\"input_ids\"].index(tokenizer.cls_token_id)\n",
        "            feature_null_score = start_logits[cls_index] + end_logits[cls_index]\n",
        "            if min_null_score is None or min_null_score < feature_null_score:\n",
        "                min_null_score = feature_null_score\n",
        "\n",
        "            # Go through all possibilities for the `n_best_size` greater start and end logits.\n",
        "            start_indexes = np.argsort(start_logits)[-1 : -n_best_size - 1 : -1].tolist()\n",
        "            end_indexes = np.argsort(end_logits)[-1 : -n_best_size - 1 : -1].tolist()\n",
        "            for start_index in start_indexes:\n",
        "                for end_index in end_indexes:\n",
        "                    # Don't consider out-of-scope answers, either because the indices are out of bounds or correspond\n",
        "                    # to part of the input_ids that are not in the context.\n",
        "                    if (\n",
        "                        start_index >= len(offset_mapping)\n",
        "                        or end_index >= len(offset_mapping)\n",
        "                        or offset_mapping[start_index] is None\n",
        "                        or offset_mapping[end_index] is None\n",
        "                    ):\n",
        "                        continue\n",
        "                    # Don't consider answers with a length that is either < 0 or > max_answer_length.\n",
        "                    if end_index < start_index or end_index - start_index + 1 > max_answer_length:\n",
        "                        continue\n",
        "\n",
        "                    start_char = offset_mapping[start_index][0]\n",
        "                    end_char = offset_mapping[end_index][1]\n",
        "                    valid_answers.append(\n",
        "                        {\n",
        "                            \"score\": start_logits[start_index] + end_logits[end_index],\n",
        "                            \"text\": context[start_char: end_char]\n",
        "                        }\n",
        "                    )\n",
        "        \n",
        "        if len(valid_answers) > 0:\n",
        "            best_answer = sorted(valid_answers, key=lambda x: x[\"score\"], reverse=True)[0]\n",
        "        else:\n",
        "            # In the very rare edge case we have not a single non-null prediction, we create a fake prediction to avoid\n",
        "            # failure.\n",
        "            best_answer = {\"text\": \"\", \"score\": 0.0}\n",
        "        \n",
        "        # Let's pick our final answer: the best one or the null answer (only for squad_v2)\n",
        "        if not squad_v2:\n",
        "            predictions[example[\"id\"]] = best_answer[\"text\"]\n",
        "        else:\n",
        "            answer = best_answer[\"text\"] if best_answer[\"score\"] > min_null_score else \"\"\n",
        "            predictions[example[\"id\"]] = answer\n",
        "\n",
        "    return predictions"
      ]
    },
    {
      "cell_type": "markdown",
      "metadata": {
        "id": "17eTnhiPiik6"
      },
      "source": [
        "And we can apply our post-processing function to our raw predictions:"
      ]
    },
    {
      "cell_type": "code",
      "execution_count": null,
      "metadata": {
        "id": "RXWYkqlZiik6",
        "outputId": "b0154afc-0349-43dc-ba6e-f8bd395f43fd"
      },
      "outputs": [],
      "source": [
        "final_predictions = postprocess_qa_predictions(datasets[\"validation\"], validation_features, raw_predictions.predictions)"
      ]
    },
    {
      "cell_type": "markdown",
      "metadata": {
        "id": "FS267iwiiik6"
      },
      "source": [
        "Then we can load the metric from the datasets library."
      ]
    },
    {
      "cell_type": "code",
      "execution_count": null,
      "metadata": {
        "id": "F1GlzmhAiik6"
      },
      "outputs": [],
      "source": [
        "metric = load_metric(\"squad_v2\" if squad_v2 else \"squad\")"
      ]
    },
    {
      "cell_type": "markdown",
      "metadata": {
        "id": "uKk8DrzCiik6"
      },
      "source": [
        "Then we can call compute on it. We just need to format predictions and labels a bit as it expects a list of dictionaries and not one big dictionary. In the case of squad_v2, we also have to set a `no_answer_probability` argument (which we set to 0.0 here as we have already set the answer to empty if we picked it)."
      ]
    },
    {
      "cell_type": "code",
      "execution_count": null,
      "metadata": {
        "id": "X7aFhzO9iik6",
        "outputId": "a9772080-ea56-4dd0-a857-b694c7a0012b"
      },
      "outputs": [],
      "source": [
        "if squad_v2:\n",
        "    formatted_predictions = [{\"id\": k, \"prediction_text\": v, \"no_answer_probability\": 0.0} for k, v in final_predictions.items()]\n",
        "else:\n",
        "    formatted_predictions = [{\"id\": k, \"prediction_text\": v} for k, v in final_predictions.items()]\n",
        "references = [{\"id\": ex[\"id\"], \"answers\": ex[\"answers\"]} for ex in datasets[\"validation\"]]\n",
        "metric.compute(predictions=formatted_predictions, references=references)"
      ]
    }
  ],
  "metadata": {
    "colab": {
      "name": "Question Answering on SQUAD",
      "provenance": []
    },
    "interpreter": {
      "hash": "2d2ad014bcbda32d6a316b818c902e73d383914357563395ad819e0fe6ae6829"
    },
    "kernelspec": {
      "display_name": "Python 3.9.13 ('finsquad')",
      "language": "python",
      "name": "python3"
    },
    "language_info": {
      "codemirror_mode": {
        "name": "ipython",
        "version": 3
      },
      "file_extension": ".py",
      "mimetype": "text/x-python",
      "name": "python",
      "nbconvert_exporter": "python",
      "pygments_lexer": "ipython3",
      "version": "3.9.13"
    }
  },
  "nbformat": 4,
  "nbformat_minor": 0
}
